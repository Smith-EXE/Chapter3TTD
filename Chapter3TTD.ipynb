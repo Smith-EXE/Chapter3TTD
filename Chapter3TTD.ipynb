{
 "cells": [
  {
   "cell_type": "code",
   "execution_count": 2,
   "id": "584ced48",
   "metadata": {},
   "outputs": [
    {
     "name": "stdout",
     "output_type": "stream",
     "text": [
      "There are 3600 seconds in an hour!\n"
     ]
    }
   ],
   "source": [
    "secondsInMinute = 60\n",
    "minutesInHour = 60\n",
    "\n",
    "secondsInHour = secondsInMinute * minutesInHour\n",
    "\n",
    "print(\"There are\", secondsInHour, \"seconds in an hour!\")"
   ]
  },
  {
   "cell_type": "code",
   "execution_count": 3,
   "id": "b80835ac",
   "metadata": {},
   "outputs": [
    {
     "name": "stdout",
     "output_type": "stream",
     "text": [
      "There are 86400 seconds in a day!\n"
     ]
    }
   ],
   "source": [
    "secondsInDay = secondsInHour * 24\n",
    "\n",
    "print(\"There are\", secondsInDay, \"seconds in a day!\")"
   ]
  },
  {
   "cell_type": "code",
   "execution_count": 4,
   "id": "cbc151dc",
   "metadata": {},
   "outputs": [
    {
     "name": "stdout",
     "output_type": "stream",
     "text": [
      "There are 24.0 Hours in a day!\n"
     ]
    }
   ],
   "source": [
    "HoursInDayFP = secondsInDay/secondsInHour\n",
    "\n",
    "print(\"There are\", HoursInDayFP, \"Hours in a day!\")"
   ]
  },
  {
   "cell_type": "code",
   "execution_count": 5,
   "id": "8667a1ff",
   "metadata": {},
   "outputs": [
    {
     "name": "stdout",
     "output_type": "stream",
     "text": [
      "There are 24 Hours in a day!\n"
     ]
    }
   ],
   "source": [
    "HoursInDayID = secondsInDay//secondsInHour\n",
    "\n",
    "print(\"There are\", HoursInDayID, \"Hours in a day!\")"
   ]
  },
  {
   "cell_type": "code",
   "execution_count": null,
   "id": "dbc94b86",
   "metadata": {},
   "outputs": [],
   "source": []
  }
 ],
 "metadata": {
  "kernelspec": {
   "display_name": "Python 3 (ipykernel)",
   "language": "python",
   "name": "python3"
  },
  "language_info": {
   "codemirror_mode": {
    "name": "ipython",
    "version": 3
   },
   "file_extension": ".py",
   "mimetype": "text/x-python",
   "name": "python",
   "nbconvert_exporter": "python",
   "pygments_lexer": "ipython3",
   "version": "3.11.5"
  }
 },
 "nbformat": 4,
 "nbformat_minor": 5
}
